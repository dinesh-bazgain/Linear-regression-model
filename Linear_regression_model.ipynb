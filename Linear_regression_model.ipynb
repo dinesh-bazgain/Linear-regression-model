{
 "cells": [
  {
   "cell_type": "code",
   "execution_count": 1,
   "id": "4cc90498-b158-4cdf-9d16-bcb6ba0ac1a4",
   "metadata": {},
   "outputs": [],
   "source": [
    "import numpy as np"
   ]
  },
  {
   "cell_type": "code",
   "execution_count": 2,
   "id": "44aa2a8f-be08-451d-8530-b802ac91901a",
   "metadata": {},
   "outputs": [],
   "source": [
    "class linear_regression():\n",
    "    def __init__(self, learning_rate, no_of_iteration):\n",
    "        #initiating learning rate and no. of iteration\n",
    "        self.learning_rate = learning_rate\n",
    "        self.no_of_iteration = no_of_iteration\n",
    "\n",
    "    def fit(self, x, y):\n",
    "        #no. of training example and no. of features\n",
    "        self.m, self.n = x.shape     #rows and column\n",
    "\n",
    "        #initating weight and bias\n",
    "        self.w = np.zeros(self.n)\n",
    "        self.b = 0\n",
    "        self.x = x\n",
    "        self.y = y\n",
    "\n",
    "        #implementing gradient descent\n",
    "        for i in range(self.no_of_iteration):\n",
    "            self.update_weights()\n",
    "\n",
    "    def update_weights(self):\n",
    "        y_prediction = self.predict(self.x)\n",
    "\n",
    "        #calculating gradient \n",
    "        dw = -(2 * (self.x.T).dot(self.y - y_prediction))/self.m\n",
    "        db = -2 * np.sum(self.y - y_prediction)/self.m\n",
    "\n",
    "        #updating weights\n",
    "        self.w = self.w - self.learning_rate * dw\n",
    "        self.b = self.b - self.learning_rate * db\n",
    "\n",
    "    def predict(self, x):\n",
    "        return x.dot(self.w) + self.b"
   ]
  },
  {
   "cell_type": "code",
   "execution_count": 3,
   "id": "27b587d9-a96f-44fb-bff2-474f69cfabec",
   "metadata": {},
   "outputs": [],
   "source": [
    "import pandas as pd \n",
    "from sklearn.model_selection import train_test_split\n",
    "import matplotlib.pyplot as plt"
   ]
  },
  {
   "cell_type": "code",
   "execution_count": 4,
   "id": "0e4da5f3-7396-4f5a-95d1-a76c33287863",
   "metadata": {},
   "outputs": [],
   "source": [
    "salary_data = pd.read_csv('Salary_Data.csv')"
   ]
  },
  {
   "cell_type": "code",
   "execution_count": 5,
   "id": "f6a1df38-64b9-4c4d-b609-c789c2be27fd",
   "metadata": {},
   "outputs": [
    {
     "data": {
      "text/html": [
       "<div>\n",
       "<style scoped>\n",
       "    .dataframe tbody tr th:only-of-type {\n",
       "        vertical-align: middle;\n",
       "    }\n",
       "\n",
       "    .dataframe tbody tr th {\n",
       "        vertical-align: top;\n",
       "    }\n",
       "\n",
       "    .dataframe thead th {\n",
       "        text-align: right;\n",
       "    }\n",
       "</style>\n",
       "<table border=\"1\" class=\"dataframe\">\n",
       "  <thead>\n",
       "    <tr style=\"text-align: right;\">\n",
       "      <th></th>\n",
       "      <th>YearsExperience</th>\n",
       "      <th>Salary</th>\n",
       "    </tr>\n",
       "  </thead>\n",
       "  <tbody>\n",
       "    <tr>\n",
       "      <th>0</th>\n",
       "      <td>1.1</td>\n",
       "      <td>39343.0</td>\n",
       "    </tr>\n",
       "    <tr>\n",
       "      <th>1</th>\n",
       "      <td>1.3</td>\n",
       "      <td>46205.0</td>\n",
       "    </tr>\n",
       "    <tr>\n",
       "      <th>2</th>\n",
       "      <td>1.5</td>\n",
       "      <td>37731.0</td>\n",
       "    </tr>\n",
       "    <tr>\n",
       "      <th>3</th>\n",
       "      <td>2.0</td>\n",
       "      <td>43525.0</td>\n",
       "    </tr>\n",
       "    <tr>\n",
       "      <th>4</th>\n",
       "      <td>2.2</td>\n",
       "      <td>39891.0</td>\n",
       "    </tr>\n",
       "  </tbody>\n",
       "</table>\n",
       "</div>"
      ],
      "text/plain": [
       "   YearsExperience   Salary\n",
       "0              1.1  39343.0\n",
       "1              1.3  46205.0\n",
       "2              1.5  37731.0\n",
       "3              2.0  43525.0\n",
       "4              2.2  39891.0"
      ]
     },
     "execution_count": 5,
     "metadata": {},
     "output_type": "execute_result"
    }
   ],
   "source": [
    "salary_data.head()\n"
   ]
  },
  {
   "cell_type": "code",
   "execution_count": 6,
   "id": "5fec98cf-eeb5-4612-a157-6e315d436801",
   "metadata": {},
   "outputs": [
    {
     "data": {
      "text/plain": [
       "(30, 2)"
      ]
     },
     "execution_count": 6,
     "metadata": {},
     "output_type": "execute_result"
    }
   ],
   "source": [
    "salary_data.shape"
   ]
  },
  {
   "cell_type": "code",
   "execution_count": 7,
   "id": "8dd488bd-2083-4eff-9234-1e920afe6e80",
   "metadata": {},
   "outputs": [
    {
     "data": {
      "text/plain": [
       "YearsExperience    0\n",
       "Salary             0\n",
       "dtype: int64"
      ]
     },
     "execution_count": 7,
     "metadata": {},
     "output_type": "execute_result"
    }
   ],
   "source": [
    "salary_data.isnull().sum()"
   ]
  },
  {
   "cell_type": "code",
   "execution_count": 8,
   "id": "3523f0c6-3265-4507-8982-a1b63fed9530",
   "metadata": {},
   "outputs": [],
   "source": [
    "x = salary_data.iloc[:,:-1].values\n",
    "y = salary_data.iloc[:,1].values"
   ]
  },
  {
   "cell_type": "code",
   "execution_count": 9,
   "id": "d09b6c8c-a0e5-498e-97c7-a552f7efd534",
   "metadata": {},
   "outputs": [],
   "source": [
    "x_train, x_test, y_train, y_test = train_test_split(x, y, test_size = 0.2, random_state = 2)"
   ]
  },
  {
   "cell_type": "code",
   "execution_count": 10,
   "id": "881c4891-c02b-4f7c-9e34-344dbf084537",
   "metadata": {},
   "outputs": [],
   "source": [
    "model = linear_regression(learning_rate = 0.01, no_of_iteration = 10000)"
   ]
  },
  {
   "cell_type": "code",
   "execution_count": 11,
   "id": "697f9443-6c4f-4496-9964-ad7fc376299b",
   "metadata": {},
   "outputs": [],
   "source": [
    "model.fit(x_train, y_train)\n",
    "#model.fit(x, y)"
   ]
  },
  {
   "cell_type": "code",
   "execution_count": 12,
   "id": "9c460dc7-f7f4-4b90-84a1-e2bb33156eeb",
   "metadata": {},
   "outputs": [
    {
     "name": "stdout",
     "output_type": "stream",
     "text": [
      "9569.586885432933 = weight\n",
      "Bias =  24393.16915194787\n"
     ]
    }
   ],
   "source": [
    "print(model.w[0], '= weight')\n",
    "print ('Bias = ', model.b)"
   ]
  },
  {
   "cell_type": "code",
   "execution_count": null,
   "id": "a09d7d7d-5ebe-4e38-839d-07357e6f4475",
   "metadata": {},
   "outputs": [],
   "source": []
  },
  {
   "cell_type": "code",
   "execution_count": 14,
   "id": "971d6d8d-4d9b-49b9-84b2-90a4f95a84fd",
   "metadata": {},
   "outputs": [
    {
     "name": "stdout",
     "output_type": "stream",
     "text": [
      "[36833.63210301 34919.71472592 67456.3101364  59800.64062805\n",
      " 92337.23603852 81810.69046455]\n"
     ]
    }
   ],
   "source": [
    "predicted_salary = model.predict(x_test)\n",
    "print(predicted_salary)"
   ]
  },
  {
   "cell_type": "code",
   "execution_count": 15,
   "id": "772d700d-5cf7-4b9c-9cd1-2db0d99ad742",
   "metadata": {},
   "outputs": [
    {
     "data": {
      "image/png": "[encoded data removed]",
      "text/plain": [
       "<Figure size 640x480 with 1 Axes>"
      ]
     },
     "metadata": {},
     "output_type": "display_data"
    }
   ],
   "source": [
    "plt.scatter(x_test, y_test, color = 'red')\n",
    "plt.scatter(x_test, predicted_salary, color = 'blue')\n",
    "plt.plot(x_test, predicted_salary, color = 'blue')\n",
    "plt.xlabel('Yrs of Experience')\n",
    "plt.ylabel('Salary')\n",
    "plt.title('Salary vs Experience')\n",
    "plt.show() "
   ]
  },
  {
   "cell_type": "code",
   "execution_count": null,
   "id": "6590fc28-5dd8-4135-afbf-ae53281d3442",
   "metadata": {},
   "outputs": [],
   "source": [
    "\n"
   ]
  },
  {
   "cell_type": "code",
   "execution_count": null,
   "id": "4ce9ec5a-c058-4640-bdf9-bdf6a8395659",
   "metadata": {},
   "outputs": [],
   "source": [
    "\n"
   ]
  },
  {
   "cell_type": "code",
   "execution_count": null,
   "id": "3b12782e-4546-4282-b8dd-873851df4b9f",
   "metadata": {},
   "outputs": [],
   "source": []
  }
 ],
 "metadata": {
  "kernelspec": {
   "display_name": "Python [conda env:base] *",
   "language": "python",
   "name": "conda-base-py"
  },
  "language_info": {
   "codemirror_mode": {
    "name": "ipython",
    "version": 3
   },
   "file_extension": ".py",
   "mimetype": "text/x-python",
   "name": "python",
   "nbconvert_exporter": "python",
   "pygments_lexer": "ipython3",
   "version": "3.12.7"
  }
 },
 "nbformat": 4,
 "nbformat_minor": 5
}
